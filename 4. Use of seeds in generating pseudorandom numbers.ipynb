{
 "cells": [
  {
   "cell_type": "markdown",
   "metadata": {},
   "source": [
    "# Generate Random Numbers in Python\n",
    "\n",
    "\n",
    "The use of randomness is an important part of the configuration and evaluation of machine learning algorithms.\n",
    "\n",
    "From the random initialization of weights in an artificial neural network, to the splitting of data into random train and test sets, to the random shuffling of a training dataset in stochastic gradient descent, generating random numbers and harnessing randomness is a required skill."
   ]
  },
  {
   "cell_type": "markdown",
   "metadata": {},
   "source": [
    "## 1. Pseudorandom Number Generators\n",
    "\n",
    "The source of [randomness](https://en.wikipedia.org/wiki/Randomness) that we inject into our programs and algorithms is a mathematical trick called a pseudorandom number generator.\n",
    "\n",
    "\n",
    "A random number generator is a system that generates random numbers from a true source of randomness. Often something physical, such as a Geiger counter, where the results are turned into random numbers. We do not need true randomness in machine learning. Instead we can use [pseudorandomness](https://en.wikipedia.org/wiki/Pseudorandom_number_generator). Pseudorandomness is a sample of numbers that look close to random, but were generated using a deterministic process.\n",
    "\n",
    "\n",
    "Shuffling data and initializing coefficients with random values use pseudorandom number generators. These little programs are often a function that you can call that will return a random number. Called again, they will return a new random number. Wrapper functions are often also available and allow you to get your randomness as an integer, floating point, within a specific distribution, within a specific range, and so on.\n",
    "\n",
    "The numbers are generated in a sequence. The sequence is deterministic and is seeded with an initial number. If you do not explicitly seed the pseudorandom number generator, then it may use the current system time in seconds or milliseconds as the seed.\n",
    "\n",
    "The value of the seed does not matter. Choose anything you wish. What does matter is that the same seeding of the process will result in the same sequence of random numbers.\n",
    "\n",
    "\n"
   ]
  },
  {
   "cell_type": "markdown",
   "metadata": {},
   "source": [
    "## 2. Random Numbers with the Python Standard Library\n",
    "\n",
    "The Python standard library provides a module called [random](https://docs.python.org/3/library/random.html) that offers a suite of functions for generating random numbers.\n",
    "\n",
    "Python uses a popular and robust pseudorandom number generator called the [Mersenne Twister](https://en.wikipedia.org/wiki/Mersenne_Twister).\n",
    "\n",
    "In this section, we will look at a number of use cases for generating and using random numbers and randomness with the standard Python API."
   ]
  },
  {
   "cell_type": "markdown",
   "metadata": {},
   "source": [
    "### Seed The Random Number Generator\n",
    "The pseudorandom number generator is a mathematical function that generates a sequence of nearly random numbers.\n",
    "\n",
    "It takes a parameter to start off the sequence, called the seed. The function is deterministic, meaning given the same seed, it will produce the same sequence of numbers every time. The choice of seed does not matter.\n",
    "\n",
    "The [seed()](https://docs.python.org/3/library/random.html#random.seed) function will seed the pseudorandom number generator, taking an integer value as an argument, such as 1 or 7. If the seed() function is not called prior to using randomness, the default is to use the current system time in milliseconds from epoch (1970).\n",
    "\n",
    "The example below demonstrates seeding the pseudorandom number generator, generates some random numbers, and shows that reseeding the generator will result in the same sequence of numbers being generated."
   ]
  },
  {
   "cell_type": "code",
   "execution_count": 1,
   "metadata": {},
   "outputs": [
    {
     "name": "stdout",
     "output_type": "stream",
     "text": [
      "0.13436424411240122 0.8474337369372327 0.763774618976614\n",
      "0.13436424411240122 0.8474337369372327 0.763774618976614\n"
     ]
    }
   ],
   "source": [
    "# seed the pseudorandom number generator\n",
    "from random import seed\n",
    "from random import random\n",
    "# seed random number generator\n",
    "seed(1)\n",
    "# generate some random numbers\n",
    "print(random(), random(), random())\n",
    "# reset the seed\n",
    "seed(1)\n",
    "# generate some random numbers\n",
    "print(random(), random(), random())"
   ]
  },
  {
   "cell_type": "markdown",
   "metadata": {},
   "source": [
    "Running the example seeds the pseudorandom number generator with the value 1, generates 3 random numbers, reseeds the generator, and shows that the same three random numbers are generated.\n",
    "\n",
    "It can be useful to control the randomness by setting the seed to ensure that your code produces the same result each time, such as in a production model.\n",
    "\n",
    "For running experiments where randomization is used to control for confounding variables, a different seed may be used for each experimental run."
   ]
  },
  {
   "cell_type": "markdown",
   "metadata": {},
   "source": [
    "### Random Floating Point Values\n",
    "Random floating point values can be generated using the random() function. Values will be generated in the range between 0 and 1, specifically in the interval [0,1).\n",
    "\n",
    "Values are drawn from a uniform distribution, meaning each value has an equal chance of being drawn.\n",
    "\n",
    "The example below generates 10 random floating point values."
   ]
  },
  {
   "cell_type": "code",
   "execution_count": 2,
   "metadata": {},
   "outputs": [
    {
     "name": "stdout",
     "output_type": "stream",
     "text": [
      "0.13436424411240122\n",
      "0.8474337369372327\n",
      "0.763774618976614\n",
      "0.2550690257394217\n",
      "0.49543508709194095\n",
      "0.4494910647887381\n",
      "0.651592972722763\n",
      "0.7887233511355132\n",
      "0.0938595867742349\n",
      "0.02834747652200631\n"
     ]
    }
   ],
   "source": [
    "# generate random floating point values\n",
    "from random import seed\n",
    "from random import random\n",
    "# seed random number generator\n",
    "seed(1)\n",
    "# generate random numbers between 0-1\n",
    "for _ in range(10):\n",
    "\tvalue = random()\n",
    "\tprint(value)"
   ]
  },
  {
   "cell_type": "markdown",
   "metadata": {},
   "source": [
    "Running the example generates and prints each random floating point value."
   ]
  },
  {
   "cell_type": "markdown",
   "metadata": {},
   "source": [
    "The floating point values could be rescaled to a desired range by multiplying them by the size of the new range and adding the min value, as follows:"
   ]
  },
  {
   "cell_type": "markdown",
   "metadata": {},
   "source": [
    "scaled value = min + (value * (max - min))"
   ]
  },
  {
   "cell_type": "markdown",
   "metadata": {},
   "source": [
    "Where *min* and *max* are the minimum and maximum values of the desired range respectively, and value is the randomly generated floating point value in the range between 0 and 1."
   ]
  },
  {
   "cell_type": "markdown",
   "metadata": {},
   "source": [
    "### Random Integer Values\n",
    "\n",
    "Random integer values can be generated with the [randint()](https://docs.python.org/3/library/random.html#random.randint) function.\n",
    "\n",
    "This function takes two arguments: the start and the end of the range for the generated integer values. Random integers are generated within and including the start and end of range values, specifically in the interval [start, end]. Random values are drawn from a uniform distribution.\n",
    "\n",
    "The example below generates 10 random integer values between 0 and 10."
   ]
  },
  {
   "cell_type": "code",
   "execution_count": 4,
   "metadata": {},
   "outputs": [
    {
     "name": "stdout",
     "output_type": "stream",
     "text": [
      "2\n",
      "9\n",
      "1\n",
      "4\n",
      "1\n",
      "7\n",
      "7\n",
      "7\n",
      "10\n",
      "6\n"
     ]
    }
   ],
   "source": [
    "# generate random integer values\n",
    "from random import seed\n",
    "from random import randint\n",
    "# seed random number generator\n",
    "seed(1)\n",
    "# generate some integers\n",
    "for _ in range(10):\n",
    "\tvalue = randint(0, 10)\n",
    "\tprint(value)"
   ]
  },
  {
   "cell_type": "markdown",
   "metadata": {},
   "source": [
    "Running the example generates and prints 10 random integer values."
   ]
  },
  {
   "cell_type": "markdown",
   "metadata": {},
   "source": [
    "### Random Gaussian Values\n",
    "\n",
    "Random floating point values can be drawn from a Gaussian distribution using the gauss() function.\n",
    "\n",
    "This function takes two arguments that correspond to the parameters that control the size of the distribution, specifically the mean and the standard deviation.\n",
    "\n",
    "The example below generates 10 random values drawn from a Gaussian distribution with a mean of 0.0 and a standard deviation of 1.0.\n",
    "\n",
    "Note that these parameters are not the bounds on the values and that the spread of the values will be controlled by the bell shape of the distribution, in this case proportionately likely above and below 0.0."
   ]
  },
  {
   "cell_type": "code",
   "execution_count": 5,
   "metadata": {},
   "outputs": [
    {
     "name": "stdout",
     "output_type": "stream",
     "text": [
      "1.2881847531554629\n",
      "1.449445608699771\n",
      "0.06633580893826191\n",
      "-0.7645436509716318\n",
      "-1.0921732151041414\n",
      "0.03133451683171687\n",
      "-1.022103170010873\n",
      "-1.4368294451025299\n",
      "0.19931197648375384\n",
      "0.13337460465860485\n"
     ]
    }
   ],
   "source": [
    "# generate random Gaussian values\n",
    "from random import seed\n",
    "from random import gauss\n",
    "# seed random number generator\n",
    "seed(1)\n",
    "# generate some Gaussian values\n",
    "for _ in range(10):\n",
    "\tvalue = gauss(0, 1)\n",
    "\tprint(value)"
   ]
  },
  {
   "cell_type": "markdown",
   "metadata": {},
   "source": [
    "Running the example generates and prints 10 Gaussian random values."
   ]
  },
  {
   "cell_type": "markdown",
   "metadata": {
    "scrolled": false
   },
   "source": [
    "### Randomly Choosing From a List\n",
    "\n",
    "Random numbers can be used to randomly choose an item from a list.\n",
    "\n",
    "For example, if a list had 10 items with indexes between 0 and 9, then you could generate a random integer between 0 and 9 and use it to randomly select an item from the list. The [choice()](https://docs.python.org/3/library/random.html#random.choice) function implements this behavior for you. Selections are made with a uniform likelihood.\n",
    "\n",
    "The example below generates a list of 20 integers and gives five examples of choosing one random item from the list."
   ]
  },
  {
   "cell_type": "code",
   "execution_count": 6,
   "metadata": {},
   "outputs": [
    {
     "name": "stdout",
     "output_type": "stream",
     "text": [
      "[0, 1, 2, 3, 4, 5, 6, 7, 8, 9, 10, 11, 12, 13, 14, 15, 16, 17, 18, 19]\n",
      "4\n",
      "18\n",
      "2\n",
      "8\n",
      "3\n"
     ]
    }
   ],
   "source": [
    "# choose a random element from a list\n",
    "from random import seed\n",
    "from random import choice\n",
    "# seed random number generator\n",
    "seed(1)\n",
    "# prepare a sequence\n",
    "sequence = [i for i in range(20)]\n",
    "print(sequence)\n",
    "# make choices from the sequence\n",
    "for _ in range(5):\n",
    "\tselection = choice(sequence)\n",
    "\tprint(selection)"
   ]
  },
  {
   "cell_type": "markdown",
   "metadata": {
    "scrolled": true
   },
   "source": [
    "Running the example first prints the list of integer values, followed by five examples of choosing and printing a random value from the list."
   ]
  },
  {
   "cell_type": "markdown",
   "metadata": {},
   "source": [
    "### Random Subsample From a List\n",
    "\n",
    "We may be interested in repeating the random selection of items from a list to create a randomly chosen subset.\n",
    "\n",
    "Importantly, once an item is selected from the list and added to the subset, it should not be added again. This is called selection without replacement because once an item from the list is selected for the subset, it is not added back to the original list (i.e. is not made available for re-selection).\n",
    "\n",
    "This behavior is provided in the [sample()](https://docs.python.org/3/library/random.html#random.sample) function that selects a random sample from a list without replacement. The function takes both the list and the size of the subset to select as arguments. Note that items are not actually removed from the original list, only selected into a copy of the list.\n",
    "\n",
    "The example below demonstrates selecting a subset of five items from a list of 20 integers."
   ]
  },
  {
   "cell_type": "code",
   "execution_count": 7,
   "metadata": {},
   "outputs": [
    {
     "name": "stdout",
     "output_type": "stream",
     "text": [
      "[0, 1, 2, 3, 4, 5, 6, 7, 8, 9, 10, 11, 12, 13, 14, 15, 16, 17, 18, 19]\n",
      "[4, 18, 2, 8, 3]\n"
     ]
    }
   ],
   "source": [
    "# select a random sample without replacement\n",
    "from random import seed\n",
    "from random import sample\n",
    "# seed random number generator\n",
    "seed(1)\n",
    "# prepare a sequence\n",
    "sequence = [i for i in range(20)]\n",
    "print(sequence)\n",
    "# select a subset without replacement\n",
    "subset = sample(sequence, 5)\n",
    "print(subset)"
   ]
  },
  {
   "cell_type": "markdown",
   "metadata": {},
   "source": [
    "Running the example first prints the list of integer values, then the random sample is chosen and printed for comparison."
   ]
  },
  {
   "cell_type": "markdown",
   "metadata": {},
   "source": [
    "### Randomly Shuffle a List\n",
    "\n",
    "Randomness can be used to shuffle a list of items, like shuffling a deck of cards.\n",
    "\n",
    "The [shuffle()](https://docs.python.org/3/library/random.html#random.shuffle) function can be used to shuffle a list. The shuffle is performed in place, meaning that the list provided as an argument to the shuffle() function is shuffled rather than a shuffled copy of the list being made and returned.\n",
    "\n",
    "The example below demonstrates randomly shuffling a list of integer values."
   ]
  },
  {
   "cell_type": "code",
   "execution_count": 8,
   "metadata": {},
   "outputs": [
    {
     "name": "stdout",
     "output_type": "stream",
     "text": [
      "[0, 1, 2, 3, 4, 5, 6, 7, 8, 9, 10, 11, 12, 13, 14, 15, 16, 17, 18, 19]\n",
      "[11, 5, 17, 19, 9, 0, 16, 1, 15, 6, 10, 13, 14, 12, 7, 3, 8, 2, 18, 4]\n"
     ]
    }
   ],
   "source": [
    "# randomly shuffle a sequence\n",
    "from random import seed\n",
    "from random import shuffle\n",
    "# seed random number generator\n",
    "seed(1)\n",
    "# prepare a sequence\n",
    "sequence = [i for i in range(20)]\n",
    "print(sequence)\n",
    "# randomly shuffle the sequence\n",
    "shuffle(sequence)\n",
    "print(sequence)"
   ]
  },
  {
   "cell_type": "markdown",
   "metadata": {},
   "source": [
    "Running the example first prints the list of integers, then the same list after it has been randomly shuffled."
   ]
  },
  {
   "cell_type": "markdown",
   "metadata": {},
   "source": [
    "## 3. Random Numbers with NumPy\n",
    "\n",
    "In machine learning, you are likely using libraries such as scikit-learn and Keras.\n",
    "\n",
    "These libraries make use of NumPy under the covers, a library that makes working with vectors and matrices of numbers very efficient.\n",
    "\n",
    "NumPy also has its own implementation of a [pseudorandom number generator](https://numpy.org/doc/stable/reference/random/index.html) and convenience wrapper functions.\n",
    "\n",
    "NumPy also implements the Mersenne Twister pseudorandom number generator.\n",
    "\n",
    "Let’s look at a few examples of generating random numbers and using randomness with [NumPy arrays](https://machinelearningmastery.com/index-slice-reshape-numpy-arrays-machine-learning-python/)."
   ]
  },
  {
   "cell_type": "markdown",
   "metadata": {},
   "source": [
    "### Seed The Random Number Generator\n",
    "\n",
    "The NumPy pseudorandom number generator is different from the Python standard library pseudorandom number generator.\n",
    "\n",
    "Importantly, seeding the Python pseudorandom number generator does not impact the NumPy pseudorandom number generator. It must be seeded and used separately.\n",
    "\n",
    "The [seed()](https://numpy.org/doc/stable/reference/random/generated/numpy.random.seed.html) function can be used to seed the NumPy pseudorandom number generator, taking an integer as the seed value.\n",
    "\n",
    "The example below demonstrates how to seed the generator and how reseeding the generator will result in the same sequence of random numbers being generated."
   ]
  },
  {
   "cell_type": "code",
   "execution_count": 9,
   "metadata": {},
   "outputs": [
    {
     "name": "stdout",
     "output_type": "stream",
     "text": [
      "[4.17022005e-01 7.20324493e-01 1.14374817e-04]\n",
      "[4.17022005e-01 7.20324493e-01 1.14374817e-04]\n"
     ]
    }
   ],
   "source": [
    "# seed the pseudorandom number generator\n",
    "from numpy.random import seed\n",
    "from numpy.random import rand\n",
    "# seed random number generator\n",
    "seed(1)\n",
    "# generate some random numbers\n",
    "print(rand(3))\n",
    "# reset the seed\n",
    "seed(1)\n",
    "# generate some random numbers\n",
    "print(rand(3))"
   ]
  },
  {
   "cell_type": "markdown",
   "metadata": {},
   "source": [
    "### Array of Random Floating Point Values\n",
    "\n",
    "An array of random floating point values can be generated with the [rand()](https://numpy.org/doc/stable/reference/random/generated/numpy.random.rand.html) NumPy function.\n",
    "\n",
    "If no argument is provided, then a single random value is created, otherwise the size of the array can be specified.\n",
    "\n",
    "The example below creates an array of 10 random floating point values drawn from a uniform distribution."
   ]
  },
  {
   "cell_type": "code",
   "execution_count": 10,
   "metadata": {},
   "outputs": [
    {
     "name": "stdout",
     "output_type": "stream",
     "text": [
      "[4.17022005e-01 7.20324493e-01 1.14374817e-04 3.02332573e-01\n",
      " 1.46755891e-01 9.23385948e-02 1.86260211e-01 3.45560727e-01\n",
      " 3.96767474e-01 5.38816734e-01]\n"
     ]
    }
   ],
   "source": [
    "# generate random floating point values\n",
    "from numpy.random import seed\n",
    "from numpy.random import rand\n",
    "# seed random number generator\n",
    "seed(1)\n",
    "# generate random numbers between 0-1\n",
    "values = rand(10)\n",
    "print(values)"
   ]
  },
  {
   "cell_type": "markdown",
   "metadata": {},
   "source": [
    "Running the example generates and prints the NumPy array of random floating point values."
   ]
  },
  {
   "cell_type": "markdown",
   "metadata": {},
   "source": [
    "### Array of Random Integer Values\n",
    "\n",
    "An array of random integers can be generated using the [randint()](https://numpy.org/doc/stable/reference/random/generated/numpy.random.randint.html) NumPy function.\n",
    "\n",
    "This function takes three arguments, the lower end of the range, the upper end of the range, and the number of integer values to generate or the size of the array. Random integers will be drawn from a uniform distribution including the lower value and excluding the upper value, e.g. in the interval [lower, upper).\n",
    "\n",
    "The example below demonstrates generating an array of random integers."
   ]
  },
  {
   "cell_type": "code",
   "execution_count": 11,
   "metadata": {},
   "outputs": [
    {
     "name": "stdout",
     "output_type": "stream",
     "text": [
      "[5 8 9 5 0 0 1 7 6 9 2 4 5 2 4 2 4 7 7 9]\n"
     ]
    }
   ],
   "source": [
    "# generate random integer values\n",
    "from numpy.random import seed\n",
    "from numpy.random import randint\n",
    "# seed random number generator\n",
    "seed(1)\n",
    "# generate some integers\n",
    "values = randint(0, 10, 20)\n",
    "print(values)"
   ]
  },
  {
   "cell_type": "markdown",
   "metadata": {},
   "source": [
    "Running the example generates and prints an array of 20 random integer values between 0 and 10."
   ]
  },
  {
   "cell_type": "markdown",
   "metadata": {},
   "source": [
    "### Array of Random Gaussian Values\n",
    "\n",
    "An array of random Gaussian values can be generated using the [randn()](https://numpy.org/doc/stable/reference/random/generated/numpy.random.randn.html) NumPy function.\n",
    "\n",
    "This function takes a single argument to specify the size of the resulting array. The Gaussian values are drawn from a standard Gaussian distribution; this is a distribution that has a mean of 0.0 and a standard deviation of 1.0.\n",
    "\n",
    "The example below shows how to generate an array of random Gaussian values."
   ]
  },
  {
   "cell_type": "code",
   "execution_count": 12,
   "metadata": {},
   "outputs": [
    {
     "name": "stdout",
     "output_type": "stream",
     "text": [
      "[ 1.62434536 -0.61175641 -0.52817175 -1.07296862  0.86540763 -2.3015387\n",
      "  1.74481176 -0.7612069   0.3190391  -0.24937038]\n"
     ]
    }
   ],
   "source": [
    "# generate random Gaussian values\n",
    "from numpy.random import seed\n",
    "from numpy.random import randn\n",
    "# seed random number generator\n",
    "seed(1)\n",
    "# generate some Gaussian values\n",
    "values = randn(10)\n",
    "print(values)"
   ]
  },
  {
   "cell_type": "markdown",
   "metadata": {},
   "source": [
    "Running the example generates and prints an array of 10 random values from a standard Gaussian distribution."
   ]
  },
  {
   "cell_type": "markdown",
   "metadata": {},
   "source": [
    "Values from a standard Gaussian distribution can be scaled by multiplying the value by the standard deviation and adding the mean from the desired scaled distribution. For example:"
   ]
  },
  {
   "cell_type": "markdown",
   "metadata": {},
   "source": [
    "scaled value = mean + value * stdev"
   ]
  },
  {
   "cell_type": "markdown",
   "metadata": {},
   "source": [
    "Where *mean* and *stdev* are the mean and standard deviation for the desired scaled Gaussian distribution and value is the randomly generated value from a standard Gaussian distribution."
   ]
  },
  {
   "cell_type": "markdown",
   "metadata": {},
   "source": [
    "### Shuffle NumPy Array\n",
    "\n",
    "A NumPy array can be randomly shuffled in-place using the [shuffle()](https://numpy.org/doc/stable/reference/random/generated/numpy.random.shuffle.html) NumPy function.\n",
    "\n",
    "The example below demonstrates how to shuffle a NumPy array."
   ]
  },
  {
   "cell_type": "code",
   "execution_count": 13,
   "metadata": {},
   "outputs": [
    {
     "name": "stdout",
     "output_type": "stream",
     "text": [
      "[0, 1, 2, 3, 4, 5, 6, 7, 8, 9, 10, 11, 12, 13, 14, 15, 16, 17, 18, 19]\n",
      "[3, 16, 6, 10, 2, 14, 4, 17, 7, 1, 13, 0, 19, 18, 9, 15, 8, 12, 11, 5]\n"
     ]
    }
   ],
   "source": [
    "# randomly shuffle a sequence\n",
    "from numpy.random import seed\n",
    "from numpy.random import shuffle\n",
    "# seed random number generator\n",
    "seed(1)\n",
    "# prepare a sequence\n",
    "sequence = [i for i in range(20)]\n",
    "print(sequence)\n",
    "# randomly shuffle the sequence\n",
    "shuffle(sequence)\n",
    "print(sequence)"
   ]
  },
  {
   "cell_type": "markdown",
   "metadata": {},
   "source": [
    "Running the example first generates a list of 20 integer values, then shuffles and prints the shuffled array."
   ]
  },
  {
   "cell_type": "markdown",
   "metadata": {},
   "source": [
    "## Conclusions\n",
    "\n",
    "We have seen that randomness can be applied in programs through the use of pseudo-random number generators.\n",
    "\n",
    "How to generate random numbers and use randomness via Python's standard library.\n",
    "\n",
    "How to generate random number arrays via NumPy library.\n",
    "\n",
    "## Other references\n",
    "\n",
    "This section provides more resources on the subject if you're looking to dig deeper.\n",
    "\n",
    "[Embrace randomness in machine learning](https://machinelearningmastery.com/randomness-in-machine-learning/)\n",
    "\n",
    "[Random: generate pseudo-random numbers](https://docs.python.org/3/library/random.html)\n",
    "\n",
    "[Random sampling in NumPy](https://numpy.org/doc/stable/reference/random/index.html)\n",
    "\n",
    "[Pseudo-random number generator on Wikipedia](https://en.wikipedia.org/wiki/Pseudorandom_number_generator)\n"
   ]
  },
  {
   "cell_type": "code",
   "execution_count": null,
   "metadata": {},
   "outputs": [],
   "source": []
  }
 ],
 "metadata": {
  "kernelspec": {
   "display_name": "Python 3",
   "language": "python",
   "name": "python3"
  },
  "language_info": {
   "codemirror_mode": {
    "name": "ipython",
    "version": 3
   },
   "file_extension": ".py",
   "mimetype": "text/x-python",
   "name": "python",
   "nbconvert_exporter": "python",
   "pygments_lexer": "ipython3",
   "version": "3.8.5"
  }
 },
 "nbformat": 4,
 "nbformat_minor": 2
}
